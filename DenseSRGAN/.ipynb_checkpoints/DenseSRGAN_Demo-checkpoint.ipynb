{
 "cells": [
  {
   "cell_type": "code",
   "execution_count": 1,
   "metadata": {
    "colab": {
     "base_uri": "https://localhost:8080/",
     "height": 33
    },
    "colab_type": "code",
    "id": "qoPO9evvpu30",
    "outputId": "2cf452d5-bed1-4dc2-fb7f-4425ce76101c"
   },
   "outputs": [],
   "source": [
    "# Local paths\n",
    "dir_pfx = './'\n",
    "data_dir = dir_pfx + '../../data/Vehicules1024/'\n",
    "# Add the local_modules directory to the set of paths\n",
    "# Python uses to look for imports.\n",
    "\n",
    "import sys\n",
    "sys.path.append(dir_pfx)\n",
    "sys.path.append('../')\n",
    "sys.path.append('../../')"
   ]
  },
  {
   "cell_type": "code",
   "execution_count": 2,
   "metadata": {
    "colab": {
     "base_uri": "https://localhost:8080/",
     "height": 33
    },
    "colab_type": "code",
    "id": "T0ztAB-Du6SS",
    "outputId": "c9931568-e987-4bc0-979c-a8c184441c10"
   },
   "outputs": [
    {
     "name": "stderr",
     "output_type": "stream",
     "text": [
      "/opt/conda/lib/python3.6/importlib/_bootstrap.py:219: RuntimeWarning: compiletime version 3.5 of module 'tensorflow.python.framework.fast_tensor_util' does not match runtime version 3.6\n",
      "  return f(*args, **kwds)\n",
      "/opt/conda/lib/python3.6/site-packages/h5py/__init__.py:36: FutureWarning: Conversion of the second argument of issubdtype from `float` to `np.floating` is deprecated. In future, it will be treated as `np.float64 == np.dtype(float).type`.\n",
      "  from ._conv import register_converters as _register_converters\n",
      "Using TensorFlow backend.\n"
     ]
    }
   ],
   "source": [
    "#!pip3 install -q git+https://www.github.com/keras-team/keras-contrib.git\n",
    "import numpy as np\n",
    "import tensorflow as tf\n",
    "import matplotlib.pyplot as plt\n",
    "from importlib import reload\n",
    "import utils\n",
    "import DenseSRGAN"
   ]
  },
  {
   "cell_type": "markdown",
   "metadata": {},
   "source": [
    "# Load Data\n",
    "Load num_images 1024x1024 overhead arial images from VEDAI dataset and create 64x64 patches with corresponding 16x16 down sampled by 4x images.\n"
   ]
  },
  {
   "cell_type": "code",
   "execution_count": null,
   "metadata": {
    "colab": {
     "base_uri": "https://localhost:8080/",
     "height": 66
    },
    "colab_type": "code",
    "id": "Nb3jixglvYIl",
    "outputId": "5ac50443-4b68-4218-e0c2-6703412610d0",
    "scrolled": false
   },
   "outputs": [
    {
     "name": "stdout",
     "output_type": "stream",
     "text": [
      "The following image is missing!: 00000005\n",
      "Using 9 images.\n",
      "Saving files to ./../../data/Vehicules1024/\n"
     ]
    }
   ],
   "source": [
    "# Grab a sample image for prediction and reconstruction\n",
    "num_images = 10\n",
    "files = utils.scan_dataset(data_dir, num_images) #TODO: 50\n",
    "training_set, testing_set = utils.create_subsets(files, data_dir, use_validation=False)\n",
    "\n",
    "#im_hr, im_lr, batch_idx = utils.load_data(0, training_set, data_dir, True, len(training_set))\n",
    "im_hr, im_lr, batch_idx = utils.load_data(0, training_set, data_dir, True, len(training_set))"
   ]
  },
  {
   "cell_type": "markdown",
   "metadata": {},
   "source": [
    "# View patches\n",
    "Original images are 4 channel RGB + IR. Show a sample patch, and it's corresponding downsampled patch.\n"
   ]
  },
  {
   "cell_type": "code",
   "execution_count": null,
   "metadata": {},
   "outputs": [],
   "source": [
    "ix = 20\n",
    "\n",
    "plt.figure().suptitle('Patch + Downsample (RGB + IR)', fontsize=20)\n",
    "plt.subplot(1,2,1)\n",
    "plt.imshow(im_hr[ix,:,:,:])\n",
    "plt.title('Original Patch')\n",
    "plt.subplot(1,2,2)\n",
    "plt.imshow(im_lr[ix,:,:,:])\n",
    "plt.title('Downsampled Patch')\n",
    "plt.show()\n",
    "\n",
    "plt.figure().suptitle('Patch + Downsample (RGB)', fontsize=20)\n",
    "plt.subplot(1,2,1)\n",
    "plt.imshow(im_hr[ix,:,:,0:3])\n",
    "plt.title('Original Patch')\n",
    "plt.subplot(1,2,2)\n",
    "plt.title('Downsampled Patch')\n",
    "plt.imshow(im_lr[ix,:,:,0:3])\n",
    "plt.show()"
   ]
  },
  {
   "cell_type": "markdown",
   "metadata": {},
   "source": [
    "# Restitch Images\n",
    "Take on images worth of patches and restitch 64x64 or 16x16 patches and show image\n"
   ]
  },
  {
   "cell_type": "code",
   "execution_count": null,
   "metadata": {
    "colab": {
     "base_uri": "https://localhost:8080/",
     "height": 351
    },
    "colab_type": "code",
    "id": "cGBexBhH_7qX",
    "outputId": "46fd4279-2fcf-4b57-8858-cf0f0ead1b96",
    "scrolled": true
   },
   "outputs": [],
   "source": [
    "im_hr_patched,im_lr_patched = utils.get_img_patches(im_hr,im_lr,2)\n",
    "\n",
    "img = utils.restitch_image_patches(im_hr_patched,(1024,1024,4))\n",
    "plt.figure()\n",
    "plt.imshow(img[:,:,0:3])\n",
    "plt.title(\"High Resolution 1024x1024 Restitched\")\n",
    "plt.show()\n",
    "\n",
    "img = utils.restitch_image_patches(im_lr_patched,(256,256,4))\n",
    "plt.figure()\n",
    "plt.imshow(img[:,:,0:3])\n",
    "plt.title(\"Down Sampled 4X 256x256 Restitched\")\n",
    "plt.show()"
   ]
  },
  {
   "cell_type": "markdown",
   "metadata": {},
   "source": [
    "# GAN Training Demo\n",
    "Image of benchmark for original vs predicted patch during training (every 50 epochs)"
   ]
  },
  {
   "cell_type": "code",
   "execution_count": null,
   "metadata": {},
   "outputs": [],
   "source": [
    "from IPython.display import Image\n",
    "Image(url='../gan-training-2.gif')  "
   ]
  },
  {
   "cell_type": "markdown",
   "metadata": {},
   "source": [
    "# Prediction Super Resolution (Epoch 790)\n",
    "Show side by side comparison of restitched image both original and super resolved patches"
   ]
  },
  {
   "cell_type": "code",
   "execution_count": null,
   "metadata": {
    "colab": {},
    "colab_type": "code",
    "id": "JK-G5zfP0yO9"
   },
   "outputs": [],
   "source": [
    "gan = DenseSRGAN.DenseSRGAN(dir_pfx,im_hr,im_lr,proj_pfx=\"OH\",weights_path=dir_pfx + 'weights/OH/790/') # 790,900,1100 epochs"
   ]
  },
  {
   "cell_type": "code",
   "execution_count": null,
   "metadata": {
    "colab": {
     "base_uri": "https://localhost:8080/",
     "height": 4191
    },
    "colab_type": "code",
    "id": "naX41Nw3aq-m",
    "outputId": "065972ce-4e66-4c84-ee80-6c26255d0215"
   },
   "outputs": [],
   "source": [
    "psnr1 = []\n",
    "\n",
    "for i in range(len(training_set)):\n",
    "\n",
    "  im_hr_patched,im_lr_patched = utils.get_img_patches(im_hr,im_lr,i)\n",
    "\n",
    "\n",
    "  pred_patches = gan.gen.predict(im_lr_patched)\n",
    "\n",
    "  pred_img_stiched = utils.restitch_image_patches(pred_patches,(1024,1024,4))\n",
    "  orig_img_stitched = utils.restitch_image_patches(im_hr_patched,(1024,1024,4))\n",
    "    \n",
    "  psnr = utils.PSNR(pred_img_stiched,orig_img_stitched)\n",
    "\n",
    "  psnr1.append(psnr)\n",
    "    \n",
    "  plt.figure().suptitle('Original vs Predicted DenseSRGAN\\nPSNR: {0}'.format(psnr))\n",
    "  plt.subplot(1,2,1)\n",
    "  plt.imshow(orig_img_stitched[:,:,0:3])\n",
    "  plt.title('Original Image')\n",
    "  plt.subplot(1,2,2)\n",
    "  plt.imshow(pred_img_stiched[:,:,0:3])\n",
    "  plt.title('Predicted Image')\n",
    "  plt.savefig('{0}{1}pred_epoch_790_sample_{2}'.format(dir_pfx,'figures/',i))"
   ]
  },
  {
   "cell_type": "markdown",
   "metadata": {},
   "source": [
    "# Prediction Super Resolution (Epoch 900)\n",
    "Show side by side comparison of restitched image both original and super resolved patches\n",
    "(You can find these figures in the figures directory)"
   ]
  },
  {
   "cell_type": "code",
   "execution_count": null,
   "metadata": {
    "colab": {},
    "colab_type": "code",
    "id": "ZyfHU0JznjaU"
   },
   "outputs": [],
   "source": [
    "# Create an instance of\n",
    "gan2 = DenseSRGAN.DenseSRGAN(dir_pfx,im_hr,im_lr,proj_pfx=\"OH\",weights_path=dir_pfx + 'weights/OH/900/')"
   ]
  },
  {
   "cell_type": "code",
   "execution_count": null,
   "metadata": {
    "colab": {
     "base_uri": "https://localhost:8080/",
     "height": 4191
    },
    "colab_type": "code",
    "id": "Ho9OOGXmnkTD",
    "outputId": "4c4183cb-2a8a-416e-f3c4-840efa2eadfa",
    "scrolled": true
   },
   "outputs": [],
   "source": [
    "psnr2 = []\n",
    "for i in range(len(training_set)):\n",
    "\n",
    "  im_hr_patched,im_lr_patched = utils.get_img_patches(im_hr,im_lr,i)\n",
    "\n",
    "\n",
    "  pred_patches = gan2.gen.predict(im_lr_patched)\n",
    "\n",
    "  pred_img_stiched = utils.restitch_image_patches(pred_patches,(1024,1024,4))\n",
    "  orig_img_stitched = utils.restitch_image_patches(im_hr_patched,(1024,1024,4))\n",
    "    \n",
    "  psnr = utils.PSNR(pred_img_stiched,orig_img_stitched)\n",
    "  psnr2.append(psnr)\n",
    "  \n",
    "\n",
    "  plt.figure().suptitle('Original vs Predicted DenseSRGAN\\nPSNR: {0}'.format(psnr))\n",
    "  plt.subplot(1,2,1)\n",
    "  plt.imshow(orig_img_stitched[:,:,0:3])\n",
    "  plt.title('Original Image')\n",
    "  plt.subplot(1,2,2)\n",
    "  plt.imshow(pred_img_stiched[:,:,0:3])\n",
    "  plt.title('Predicted Image')\n",
    "  plt.savefig('{0}{1}pred_epoch_1100_sample_{2}'.format(dir_pfx,'figures/',i))"
   ]
  },
  {
   "cell_type": "markdown",
   "metadata": {},
   "source": [
    "# Calculate PSNR of Predicted Images"
   ]
  },
  {
   "cell_type": "code",
   "execution_count": null,
   "metadata": {},
   "outputs": [],
   "source": [
    "plt.figure()\n",
    "plt.scatter(range(len(psnr1)),psnr1)\n",
    "plt.scatter(range(len(psnr2)),psnr2)\n",
    "plt.legend(['790 Epochs','900 Epochs'])\n",
    "plt.xlabel('Sample Number')\n",
    "plt.ylabel('PSNR')\n",
    "plt.show()"
   ]
  },
  {
   "cell_type": "code",
   "execution_count": null,
   "metadata": {},
   "outputs": [],
   "source": []
  }
 ],
 "metadata": {
  "colab": {
   "name": "DenseSRGAN_Demo.ipynb",
   "provenance": [],
   "version": "0.3.2"
  },
  "kernelspec": {
   "display_name": "Python 3",
   "language": "python",
   "name": "python3"
  },
  "language_info": {
   "codemirror_mode": {
    "name": "ipython",
    "version": 3
   },
   "file_extension": ".py",
   "mimetype": "text/x-python",
   "name": "python",
   "nbconvert_exporter": "python",
   "pygments_lexer": "ipython3",
   "version": "3.6.4"
  }
 },
 "nbformat": 4,
 "nbformat_minor": 1
}
