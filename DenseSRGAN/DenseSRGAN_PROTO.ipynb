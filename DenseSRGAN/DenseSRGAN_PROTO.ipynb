{
 "cells": [
  {
   "cell_type": "markdown",
   "metadata": {
    "colab_type": "text",
    "id": "view-in-github"
   },
   "source": [
    "<a href=\"https://colab.research.google.com/github/mihirsathe/ECE285FA18_BestGroup/blob/master/DenseSRGAN_PROTO.ipynb\" target=\"_parent\"><img src=\"https://colab.research.google.com/assets/colab-badge.svg\" alt=\"Open In Colab\"/></a>"
   ]
  },
  {
   "cell_type": "code",
   "execution_count": 1,
   "metadata": {
    "colab": {
     "base_uri": "https://localhost:8080/",
     "height": 34
    },
    "colab_type": "code",
    "id": "sN3DFQTdEJKW",
    "outputId": "001f74d1-e109-4059-801d-d4b0cdd3bd98"
   },
   "outputs": [],
   "source": [
    "#from google.colab import drive\n",
    "#drive.mount('/content/drive')\n",
    "dir_pfx = './'\n",
    "data_dir = '../data/Vehicules1024/'\n",
    "\n",
    "# Add the local_modules directory to the set of paths\n",
    "# Python uses to look for imports.\n",
    "import sys\n",
    "sys.path.append(dir_pfx)"
   ]
  },
  {
   "cell_type": "code",
   "execution_count": 2,
   "metadata": {
    "colab": {
     "base_uri": "https://localhost:8080/",
     "height": 34
    },
    "colab_type": "code",
    "id": "yV3xCFSdGD_R",
    "outputId": "cde8e4eb-12a5-4e60-abb5-7cd98768fc6d"
   },
   "outputs": [
    {
     "name": "stderr",
     "output_type": "stream",
     "text": [
      "Using TensorFlow backend.\n"
     ]
    }
   ],
   "source": [
    "import os\n",
    "import numpy as np\n",
    "from matplotlib import pyplot as plt\n",
    "import utils"
   ]
  },
  {
   "cell_type": "code",
   "execution_count": 3,
   "metadata": {
    "colab": {},
    "colab_type": "code",
    "id": "0sa5_0TtJT1P"
   },
   "outputs": [],
   "source": [
    "onlyfiles = [f for f in os.listdir(data_dir) if os.path.isfile(os.path.join(data_dir, f)) and \"png\" in f]"
   ]
  },
  {
   "cell_type": "code",
   "execution_count": 4,
   "metadata": {
    "colab": {
     "base_uri": "https://localhost:8080/",
     "height": 34
    },
    "colab_type": "code",
    "id": "Q13i_ZyrIMAp",
    "outputId": "3b4125fd-8b6a-443f-d90e-5ff1804903f1"
   },
   "outputs": [
    {
     "name": "stdout",
     "output_type": "stream",
     "text": [
      "The following image is missing!: 00000005\n"
     ]
    }
   ],
   "source": [
    "files = utils.scan_dataset(data_dir) # Requires a list?\n"
   ]
  },
  {
   "cell_type": "code",
   "execution_count": 5,
   "metadata": {
    "colab": {
     "base_uri": "https://localhost:8080/",
     "height": 51
    },
    "colab_type": "code",
    "id": "O-FNbNWb2VUq",
    "outputId": "1a2733ec-384e-4ed4-ec4c-8ac39d4348f7"
   },
   "outputs": [
    {
     "name": "stdout",
     "output_type": "stream",
     "text": [
      "Using 9 images.\n",
      "Saving files to ../data/Vehicules1024/\n"
     ]
    }
   ],
   "source": [
    "training_set, testing_set = utils.create_subsets(files,data_dir, use_validation = False)"
   ]
  },
  {
   "cell_type": "code",
   "execution_count": 6,
   "metadata": {
    "colab": {
     "base_uri": "https://localhost:8080/",
     "height": 51
    },
    "colab_type": "code",
    "id": "sJ5ppco94vKf",
    "outputId": "1e65d986-fd37-4929-e6b6-7a9447439e2a"
   },
   "outputs": [
    {
     "name": "stdout",
     "output_type": "stream",
     "text": [
      "Training files: ['00000006', '00000007', '00000008', '00000004', '00000003', '00000000']\n",
      "Testing files: ['00000009', '00000001', '00000002']\n"
     ]
    }
   ],
   "source": [
    "print('Training files: ' + str(training_set))\n",
    "print('Testing files: ' + str(testing_set))\n"
   ]
  },
  {
   "cell_type": "code",
   "execution_count": 7,
   "metadata": {
    "colab": {
     "base_uri": "https://localhost:8080/",
     "height": 86
    },
    "colab_type": "code",
    "id": "rkbrobDV43Lq",
    "outputId": "47d85069-bccb-4ef0-f7fd-c202bdd69ebe"
   },
   "outputs": [
    {
     "name": "stdout",
     "output_type": "stream",
     "text": [
      "['00000006', '00000007', '00000008', '00000004', '00000003', '00000000']\n",
      "(6, 1024, 1024, 3)\n",
      "RGB shape: (6, 1024, 1024, 3)\n",
      "Infra shape: (6, 1024, 1024, 1)\n"
     ]
    }
   ],
   "source": [
    "rgb, infra = utils.read_VEDAI(training_set, data_dir) # Directory in list?\n",
    "print('RGB shape: '+ str(rgb.shape))\n",
    "print('Infra shape: '+ str(infra.shape))"
   ]
  },
  {
   "cell_type": "code",
   "execution_count": 8,
   "metadata": {
    "colab": {
     "base_uri": "https://localhost:8080/",
     "height": 34
    },
    "colab_type": "code",
    "id": "Clo9xE6K5kv_",
    "outputId": "8504718c-8152-48bf-e19c-11df5f0892de"
   },
   "outputs": [
    {
     "name": "stdout",
     "output_type": "stream",
     "text": [
      "Data shape: (6, 1024, 1024, 4)\n"
     ]
    }
   ],
   "source": [
    "training_data = utils.combine_rgb_infra(rgb, infra)\n",
    "# training_data=rgb\n",
    "print('Data shape: '+ str(training_data.shape))"
   ]
  },
  {
   "cell_type": "code",
   "execution_count": 9,
   "metadata": {
    "colab": {},
    "colab_type": "code",
    "id": "TjkAP0EN5um_"
   },
   "outputs": [],
   "source": [
    "training_data = utils.normalize(training_data)"
   ]
  },
  {
   "cell_type": "code",
   "execution_count": 10,
   "metadata": {
    "colab": {
     "base_uri": "https://localhost:8080/",
     "height": 34
    },
    "colab_type": "code",
    "id": "Z51O2s5c5y9K",
    "outputId": "a77d7d9f-e16b-4a37-d89e-97784aa5038e"
   },
   "outputs": [
    {
     "name": "stdout",
     "output_type": "stream",
     "text": [
      "CPU times: user 0 ns, sys: 0 ns, total: 0 ns\n",
      "Wall time: 6.2 µs\n",
      "Patch size 16\n"
     ]
    }
   ],
   "source": [
    "%time\n",
    "data_patched = utils.overlapping_patches(training_data)\n",
    "patch_size = data_patched.shape[1]\n",
    "factor = 2\n",
    "down_patch_size = int(patch_size/factor)\n",
    "print(\"Patch size \" + str(down_patch_size))"
   ]
  },
  {
   "cell_type": "code",
   "execution_count": 11,
   "metadata": {
    "colab": {
     "base_uri": "https://localhost:8080/",
     "height": 34
    },
    "colab_type": "code",
    "id": "xPBpBm9W6Ag_",
    "outputId": "bdacc416-a0cf-4228-bd26-7f27a1d34f5c"
   },
   "outputs": [
    {
     "name": "stdout",
     "output_type": "stream",
     "text": [
      "CPU times: user 0 ns, sys: 0 ns, total: 0 ns\n",
      "Wall time: 23.8 µs\n",
      "Low res shape: (1536, 16, 16, 4)\n"
     ]
    }
   ],
   "source": [
    "%time\n",
    "im_hr = np.zeros(data_patched.shape)\n",
    "im_lr = np.zeros(data_patched.shape)\n",
    "im_lr = im_lr[:,0:down_patch_size,0:down_patch_size,:]\n",
    "\n",
    "print('Low res shape: ' + str(im_lr.shape))"
   ]
  },
  {
   "cell_type": "code",
   "execution_count": 12,
   "metadata": {
    "colab": {
     "base_uri": "https://localhost:8080/",
     "height": 120
    },
    "colab_type": "code",
    "id": "tLXB6niy6OwV",
    "outputId": "3e87215b-dd05-485d-821b-4eb87331b028"
   },
   "outputs": [
    {
     "name": "stdout",
     "output_type": "stream",
     "text": [
      "Hi res - \n",
      "Shape of the data is(1536, 64, 64, 4)\n",
      "Dtype of the data isfloat64\n",
      "Lo res - \n",
      "Shape of the data is(1536, 16, 16, 4)\n",
      "Dtype of the data isfloat64\n"
     ]
    }
   ],
   "source": [
    "patch_size = data_patched.shape[1]\n",
    "down_patch_size = int(patch_size/factor)\n",
    "\n",
    "for image in range(data_patched.shape[0]):\n",
    "  im_lr[image,:,:,:] = utils.downsample_image(data_patched[image,:,:,:], block=(factor, factor, 1))\n",
    "\n",
    "print(\"Hi res - \")\n",
    "utils.data_explore(data_patched)\n",
    "print(\"Lo res - \")\n",
    "utils.data_explore(im_lr)"
   ]
  },
  {
   "cell_type": "code",
   "execution_count": 13,
   "metadata": {
    "colab": {
     "base_uri": "https://localhost:8080/",
     "height": 355
    },
    "colab_type": "code",
    "id": "MyPcWSMVIElW",
    "outputId": "529f9ada-ed11-4266-b41b-73ed2c36f0d0"
   },
   "outputs": [
    {
     "data": {
      "text/plain": [
       "<matplotlib.image.AxesImage at 0x7f9a9ecdfe80>"
      ]
     },
     "execution_count": 13,
     "metadata": {},
     "output_type": "execute_result"
    },
    {
     "data": {
      "image/png": "[encoded data removed]",
      "text/plain": [
       "<Figure size 432x288 with 2 Axes>"
      ]
     },
     "metadata": {},
     "output_type": "display_data"
    }
   ],
   "source": [
    "plt.figure().suptitle('RGB+Infra', fontsize=20)\n",
    "plt.subplot(1,2,1)\n",
    "plt.imshow(data_patched[0,:,:,:])\n",
    "plt.subplot(1,2,2)\n",
    "plt.imshow(im_lr[0,:,:,:])"
   ]
  },
  {
   "cell_type": "code",
   "execution_count": 14,
   "metadata": {},
   "outputs": [
    {
     "data": {
      "text/plain": [
       "<matplotlib.image.AxesImage at 0x7f9a9ec8a1d0>"
      ]
     },
     "execution_count": 14,
     "metadata": {},
     "output_type": "execute_result"
    },
    {
     "data": {
      "image/png": "[encoded data removed]",
      "text/plain": [
       "<Figure size 432x288 with 2 Axes>"
      ]
     },
     "metadata": {},
     "output_type": "display_data"
    }
   ],
   "source": [
    "ix = 745\n",
    "plt.figure().suptitle('RGB+Infra', fontsize=20)\n",
    "plt.subplot(1,2,1)\n",
    "plt.imshow(im_hr[ix,:,:,:])\n",
    "plt.subplot(1,2,2)\n",
    "plt.imshow(im_lr[ix,:,:,:])"
   ]
  },
  {
   "cell_type": "code",
   "execution_count": 15,
   "metadata": {},
   "outputs": [
    {
     "data": {
      "text/plain": [
       "(1536, 64, 64, 4)"
      ]
     },
     "execution_count": 15,
     "metadata": {},
     "output_type": "execute_result"
    }
   ],
   "source": [
    "im_hr.shape"
   ]
  },
  {
   "cell_type": "code",
   "execution_count": 16,
   "metadata": {
    "colab": {},
    "colab_type": "code",
    "id": "V0KGCfXKTM-m"
   },
   "outputs": [],
   "source": [
    "# Prototype the Dense SR GAN"
   ]
  },
  {
   "cell_type": "code",
   "execution_count": 17,
   "metadata": {
    "colab": {},
    "colab_type": "code",
    "id": "_AX1lq83Zb0z"
   },
   "outputs": [],
   "source": [
    "import DenseSRGAN"
   ]
  },
  {
   "cell_type": "code",
   "execution_count": 18,
   "metadata": {
    "colab": {
     "base_uri": "https://localhost:8080/",
     "height": 4452
    },
    "colab_type": "code",
    "id": "jqTPGHOlZp1B",
    "outputId": "cd71942d-9009-40ce-aa23-93b2bfa7e3e3"
   },
   "outputs": [
    {
     "name": "stdout",
     "output_type": "stream",
     "text": [
      "CPU times: user 0 ns, sys: 0 ns, total: 0 ns\n",
      "Wall time: 7.87 µs\n"
     ]
    }
   ],
   "source": [
    "gan = DenseSRGAN.DenseSRGAN()"
   ]
  },
  {
   "cell_type": "code",
   "execution_count": 45,
   "metadata": {},
   "outputs": [
    {
     "name": "stdout",
     "output_type": "stream",
     "text": [
      "0: [D loss: 0.000034, acc: 1.000000]  [A loss: 0.325973, acc: 0.937500]\n",
      "1: [D loss: 0.000061, acc: 1.000000]  [A loss: 0.063477, acc: 1.000000]\n",
      "2: [D loss: 0.000097, acc: 1.000000]  [A loss: 0.002082, acc: 1.000000]\n",
      "3: [D loss: 0.000096, acc: 1.000000]  [A loss: 0.000306, acc: 1.000000]\n"
     ]
    }
   ],
   "source": [
    "gan.train(data_patched[0:64,:,:,:],im_lr[0:64,:,:,:])"
   ]
  },
  {
   "cell_type": "code",
   "execution_count": 59,
   "metadata": {},
   "outputs": [],
   "source": [
    "img = gan.G.predict(im_lr[777:778,:,:]).squeeze()"
   ]
  },
  {
   "cell_type": "code",
   "execution_count": 62,
   "metadata": {},
   "outputs": [
    {
     "data": {
      "text/plain": [
       "<matplotlib.image.AxesImage at 0x7f98ab660438>"
      ]
     },
     "execution_count": 62,
     "metadata": {},
     "output_type": "execute_result"
    },
    {
     "data": {
      "image/png": "[encoded data removed]",
      "text/plain": [
       "<Figure size 432x288 with 2 Axes>"
      ]
     },
     "metadata": {},
     "output_type": "display_data"
    }
   ],
   "source": [
    "ix = 777\n",
    "plt.figure().suptitle('RGB+Infra', fontsize=20)\n",
    "plt.subplot(1,2,1)\n",
    "plt.imshow(data_patched[ix,:,:,:])\n",
    "plt.subplot(1,2,2)\n",
    "plt.imshow(img)"
   ]
  }
 ],
 "metadata": {
  "accelerator": "GPU",
  "colab": {
   "collapsed_sections": [],
   "include_colab_link": true,
   "name": "DenseSRGAN_PROTO.ipynb",
   "provenance": [],
   "version": "0.3.2"
  },
  "kernelspec": {
   "display_name": "Python 3",
   "language": "python",
   "name": "python3"
  },
  "language_info": {
   "codemirror_mode": {
    "name": "ipython",
    "version": 3
   },
   "file_extension": ".py",
   "mimetype": "text/x-python",
   "name": "python",
   "nbconvert_exporter": "python",
   "pygments_lexer": "ipython3",
   "version": "3.5.3"
  }
 },
 "nbformat": 4,
 "nbformat_minor": 2
}
