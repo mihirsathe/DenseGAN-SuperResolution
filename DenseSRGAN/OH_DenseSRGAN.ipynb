{
 "cells": [
  {
   "cell_type": "code",
   "execution_count": null,
   "metadata": {
    "colab": {
     "base_uri": "https://localhost:8080/",
     "height": 35
    },
    "colab_type": "code",
    "id": "sN3DFQTdEJKW",
    "outputId": "6e5d0289-1901-43bf-f62c-2783e2f4bf29"
   },
   "outputs": [],
   "source": [
    "# Local paths\n",
    "dir_pfx = './'\n",
    "data_dir = dir_pfx + '../../data/Vehicules1024/'\n",
    "# Add the local_modules directory to the set of paths\n",
    "# Python uses to look for imports.\n",
    "import sys\n",
    "sys.path.append(dir_pfx)\n",
    "sys.path.append('../')\n",
    "sys.path.append('../../')"
   ]
  },
  {
   "cell_type": "code",
   "execution_count": null,
   "metadata": {},
   "outputs": [],
   "source": [
    "!pip install --user imageio"
   ]
  },
  {
   "cell_type": "code",
   "execution_count": null,
   "metadata": {
    "colab": {
     "base_uri": "https://localhost:8080/",
     "height": 35
    },
    "colab_type": "code",
    "id": "yV3xCFSdGD_R",
    "outputId": "5e32bd7b-d861-4212-9e77-dfbe354ad0ef"
   },
   "outputs": [],
   "source": [
    "#!pip install -q git+https://www.github.com/keras-team/keras-contrib.git\n",
    "#!pip install --user scikit-image\n",
    "#!pip install --user imageio\n",
    "import numpy as np\n",
    "import tensorflow as tf\n",
    "import matplotlib.pyplot as plt\n",
    "from importlib import reload\n",
    "import utils\n",
    "import DenseSRGAN\n"
   ]
  },
  {
   "cell_type": "code",
   "execution_count": null,
   "metadata": {
    "colab": {
     "base_uri": "https://localhost:8080/",
     "height": 69
    },
    "colab_type": "code",
    "id": "gGqXllpxIo1D",
    "outputId": "ee676303-754f-4b9b-98e2-f6d236329830"
   },
   "outputs": [],
   "source": [
    "num_images = 50\n",
    "files = utils.scan_dataset(data_dir, num_images) #TODO: 50\n",
    "training_set, testing_set = utils.create_subsets(files, data_dir, use_validation=False)\n",
    "im_hr, im_lr, batch_idx = utils.load_data(0, training_set, data_dir, True, len(training_set))\n"
   ]
  },
  {
   "cell_type": "code",
   "execution_count": null,
   "metadata": {
    "colab": {
     "base_uri": "https://localhost:8080/",
     "height": 356
    },
    "colab_type": "code",
    "id": "MyPcWSMVIElW",
    "outputId": "e359d2ac-1299-4dee-f76a-f431b7045685"
   },
   "outputs": [],
   "source": [
    "ix = 2560\n",
    "normalized_around_zero = False\n",
    "\n",
    "if normalized_around_zero:\n",
    "    plt.figure().suptitle('RGB+Infra', fontsize=20)\n",
    "    plt.subplot(1,2,1)\n",
    "    plt.imshow(utils.un_normalize(im_hr[ix,:,:,:]))\n",
    "    plt.subplot(1,2,2)\n",
    "    plt.imshow(utils.un_normalize(im_lr[ix,:,:,:]))\n",
    "\n",
    "    plt.figure().suptitle('RGB', fontsize=20)\n",
    "    plt.subplot(1,2,1)\n",
    "    plt.imshow(utils.un_normalize(im_hr[ix,:,:,0:3]))\n",
    "    plt.subplot(1,2,2)\n",
    "    plt.imshow(utils.un_normalize(im_lr[ix,:,:,0:3]))\n",
    "else:\n",
    "    plt.figure().suptitle('RGB+Infra', fontsize=20)\n",
    "    plt.subplot(1,2,1)\n",
    "    plt.imshow(im_hr[ix,:,:,:])\n",
    "    plt.subplot(1,2,2)\n",
    "    plt.imshow(im_lr[ix,:,:,:])\n",
    "\n",
    "    plt.figure().suptitle('RGB', fontsize=20)\n",
    "    plt.subplot(1,2,1)\n",
    "    plt.imshow(im_hr[ix,:,:,0:3])\n",
    "    plt.subplot(1,2,2)\n",
    "    plt.imshow(im_lr[ix,:,:,0:3])"
   ]
  },
  {
   "cell_type": "markdown",
   "metadata": {},
   "source": [
    "## Load GAN Model for Training"
   ]
  },
  {
   "cell_type": "code",
   "execution_count": null,
   "metadata": {
    "colab": {},
    "colab_type": "code",
    "id": "_AX1lq83Zb0z"
   },
   "outputs": [],
   "source": [
    "gan = DenseSRGAN.DenseSRGAN(dir_pfx,                          # Working directory\n",
    "                            im_hr,im_lr,                      # High Res / Low Res Images\n",
    "                            proj_pfx=\"OH\",gpu_list=[1,3,5,7], # Prefix for saving\n",
    "                            dropout_rate=0.3,                 # Droupout Rate\n",
    "                            num_epochs_trained=0)             # Number of epochs if \n",
    "                                                              # continuing training\n"
   ]
  },
  {
   "cell_type": "markdown",
   "metadata": {},
   "source": [
    "## Train the model "
   ]
  },
  {
   "cell_type": "code",
   "execution_count": null,
   "metadata": {},
   "outputs": [],
   "source": [
    "gan.train(epochs=1000,       # Number of epochs\n",
    "          verbose=False,     # Print time for each step\n",
    "          bench_idx=2560,    # Index of image for benchmark\n",
    "          batch_size=16,     # Minibatch size\n",
    "          save_interval=10,  # Interval epochs to save weights/benchmark\n",
    "          view_interval=2)   # Interval epochs to print loss"
   ]
  },
  {
   "cell_type": "markdown",
   "metadata": {},
   "source": [
    "## Load a Pretrained Model with weights"
   ]
  },
  {
   "cell_type": "code",
   "execution_count": null,
   "metadata": {},
   "outputs": [],
   "source": [
    "gan = DenseSRGAN.DenseSRGAN(dir_pfx,                             # Working directory\n",
    "                            im_hr,im_lr,                         # High Res / Low Res Images\n",
    "                            proj_pfx=\"OH\",gpu_list=None,         # Prefix for saving\n",
    "                            dropout_rate=0.3,                    # Droupout Rate\n",
    "                            weights_path=dir_pfx + 'weights/OH/' # Load weights to resume training or predict\n",
    "                            num_epochs_trained=0)                # Number of epochs if \n",
    "                                                                 # continuing training"
   ]
  },
  {
   "cell_type": "markdown",
   "metadata": {},
   "source": [
    "## Show some predictions vs actual patches"
   ]
  },
  {
   "cell_type": "code",
   "execution_count": null,
   "metadata": {
    "colab": {
     "base_uri": "https://localhost:8080/",
     "height": 356
    },
    "colab_type": "code",
    "id": "Ax87RPHq_suF",
    "outputId": "b763c845-e9fa-4ae2-9ffd-25b237febcd5"
   },
   "outputs": [],
   "source": [
    "ix = 10\n",
    "ix2 = 11\n",
    "\n",
    "img = gan.gen.predict(im_lr[ix:ix+1,:,:,:]).squeeze()\n",
    "img = (img + 1)/2\n",
    "plt.figure().suptitle('RGB+Infra', fontsize=20)\n",
    "plt.subplot(1,2,1)\n",
    "plt.imshow(im_hr[ix,:,:,:])\n",
    "plt.subplot(1,2,2)\n",
    "plt.imshow(img)\n",
    "\n",
    "img = gan.gen.predict(im_lr[ix2:ix2+1,:,:,:]).squeeze()\n",
    "img = (img + 1)/2\n",
    "plt.figure().suptitle('RGB+Infra', fontsize=20)\n",
    "plt.subplot(1,2,1)\n",
    "plt.imshow(im_hr[ix2,:,:,:])\n",
    "plt.subplot(1,2,2)\n",
    "plt.imshow(img)"
   ]
  },
  {
   "cell_type": "markdown",
   "metadata": {},
   "source": [
    "## Show the loss of the discriminator on some real/generated images"
   ]
  },
  {
   "cell_type": "code",
   "execution_count": null,
   "metadata": {
    "colab": {
     "base_uri": "https://localhost:8080/",
     "height": 735
    },
    "colab_type": "code",
    "id": "waCfHuwYSbwl",
    "outputId": "34a18da4-3e5b-413b-a48e-03dbff35b562"
   },
   "outputs": [],
   "source": [
    "floss = []\n",
    "tloss = []\n",
    "\n",
    "for i in np.random.randint(low=0,high=len(im_lr),size=(500)):\n",
    "  tloss.append(gan.disc.predict(im_hr[i:i+1,:,:,:]).squeeze())\n",
    "  floss.append(gan.disc.predict(gan.gen.predict(im_lr[i:i+1,:,:,:])).squeeze())\n",
    "\n",
    "  \n",
    "print('Mean Loss Real Images: {0}'.format(np.mean(tloss)))\n",
    "print('Mean Loss False Images: {0}'.format(np.mean(floss)))\n",
    "\n",
    "\n",
    "plt.figure()\n",
    "plt.plot(list(range(len(tloss))),tloss)\n",
    "plt.plot(list(range(len(floss))),floss)\n",
    "plt.legend(['Loss Real Images','Loss Generated Images'])\n",
    "plt.xlabel('Random Sample Number')\n",
    "plt.ylabel('Cross Entropy Loss')\n",
    "plt.show"
   ]
  }
 ],
 "metadata": {
  "accelerator": "GPU",
  "colab": {
   "collapsed_sections": [],
   "name": "DenseSRGAN_PROTO_colab.ipynb",
   "provenance": [],
   "version": "0.3.2"
  },
  "kernelspec": {
   "display_name": "Python 3",
   "language": "python",
   "name": "python3"
  },
  "language_info": {
   "codemirror_mode": {
    "name": "ipython",
    "version": 3
   },
   "file_extension": ".py",
   "mimetype": "text/x-python",
   "name": "python",
   "nbconvert_exporter": "python",
   "pygments_lexer": "ipython3",
   "version": "3.6.4"
  }
 },
 "nbformat": 4,
 "nbformat_minor": 2
}
