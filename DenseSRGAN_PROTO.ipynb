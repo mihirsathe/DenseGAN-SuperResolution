{
  "nbformat": 4,
  "nbformat_minor": 0,
  "metadata": {
    "colab": {
      "name": "DenseSRGAN_PROTO.ipynb",
      "version": "0.3.2",
      "provenance": [],
      "collapsed_sections": [],
      "include_colab_link": true
    },
    "kernelspec": {
      "name": "python3",
      "display_name": "Python 3"
    },
    "accelerator": "GPU"
  },
  "cells": [
    {
      "cell_type": "markdown",
      "metadata": {
        "id": "view-in-github",
        "colab_type": "text"
      },
      "source": [
        "<a href=\"https://colab.research.google.com/github/mihirsathe/ECE285FA18_BestGroup/blob/master/DenseSRGAN_PROTO.ipynb\" target=\"_parent\"><img src=\"https://colab.research.google.com/assets/colab-badge.svg\" alt=\"Open In Colab\"/></a>"
      ]
    },
    {
      "metadata": {
        "id": "sN3DFQTdEJKW",
        "colab_type": "code",
        "outputId": "001f74d1-e109-4059-801d-d4b0cdd3bd98",
        "colab": {
          "base_uri": "https://localhost:8080/",
          "height": 34
        }
      },
      "cell_type": "code",
      "source": [
        "from google.colab import drive\n",
        "drive.mount('/content/drive')\n",
        "dir_pfx = '/content/drive/Team Drives/ECE285_Project/code/prototype/DenseSRGAN/'\n",
        "data_dir = '/content/drive/Team Drives/ECE285_Project/code/prototype/data/Vehicules1024/'\n",
        "\n",
        "# Add the local_modules directory to the set of paths\n",
        "# Python uses to look for imports.\n",
        "import sys\n",
        "sys.path.append(dir_pfx)"
      ],
      "execution_count": 1,
      "outputs": [
        {
          "output_type": "stream",
          "text": [
            "Drive already mounted at /content/drive; to attempt to forcibly remount, call drive.mount(\"/content/drive\", force_remount=True).\n"
          ],
          "name": "stdout"
        }
      ]
    },
    {
      "metadata": {
        "id": "yV3xCFSdGD_R",
        "colab_type": "code",
        "outputId": "cde8e4eb-12a5-4e60-abb5-7cd98768fc6d",
        "colab": {
          "base_uri": "https://localhost:8080/",
          "height": 34
        }
      },
      "cell_type": "code",
      "source": [
        "!pip install -q imageio\n",
        "import os\n",
        "import numpy as np\n",
        "from matplotlib import pyplot as plt\n",
        "import utils"
      ],
      "execution_count": 2,
      "outputs": [
        {
          "output_type": "stream",
          "text": [
            "Using TensorFlow backend.\n"
          ],
          "name": "stderr"
        }
      ]
    },
    {
      "metadata": {
        "id": "0sa5_0TtJT1P",
        "colab_type": "code",
        "colab": {}
      },
      "cell_type": "code",
      "source": [
        "onlyfiles = [f for f in os.listdir(data_dir) if os.path.isfile(os.path.join(data_dir, f)) and \"png\" in f]"
      ],
      "execution_count": 0,
      "outputs": []
    },
    {
      "metadata": {
        "id": "Q13i_ZyrIMAp",
        "colab_type": "code",
        "outputId": "3b4125fd-8b6a-443f-d90e-5ff1804903f1",
        "colab": {
          "base_uri": "https://localhost:8080/",
          "height": 34
        }
      },
      "cell_type": "code",
      "source": [
        "files = utils.scan_dataset([data_dir]) # Requires a list?\n"
      ],
      "execution_count": 0,
      "outputs": [
        {
          "output_type": "stream",
          "text": [
            "The following image is missing!: 00000005\n"
          ],
          "name": "stdout"
        }
      ]
    },
    {
      "metadata": {
        "id": "O-FNbNWb2VUq",
        "colab_type": "code",
        "outputId": "1a2733ec-384e-4ed4-ec4c-8ac39d4348f7",
        "colab": {
          "base_uri": "https://localhost:8080/",
          "height": 51
        }
      },
      "cell_type": "code",
      "source": [
        "training_set, testing_set = utils.create_subsets(files,data_dir, use_validation = False)"
      ],
      "execution_count": 0,
      "outputs": [
        {
          "output_type": "stream",
          "text": [
            "Using 9 images.\n",
            "Saving files to /content/drive/Team Drives/ECE285_Project/code/prototype/data/Vehicules1024/\n"
          ],
          "name": "stdout"
        }
      ]
    },
    {
      "metadata": {
        "id": "sJ5ppco94vKf",
        "colab_type": "code",
        "outputId": "1e65d986-fd37-4929-e6b6-7a9447439e2a",
        "colab": {
          "base_uri": "https://localhost:8080/",
          "height": 51
        }
      },
      "cell_type": "code",
      "source": [
        "print('Training files: ' + str(training_set))\n",
        "print('Testing files: ' + str(testing_set))\n"
      ],
      "execution_count": 0,
      "outputs": [
        {
          "output_type": "stream",
          "text": [
            "Training files: ['00000006', '00000007', '00000008', '00000004', '00000003', '00000000']\n",
            "Testing files: ['00000009', '00000001', '00000002']\n"
          ],
          "name": "stdout"
        }
      ]
    },
    {
      "metadata": {
        "id": "rkbrobDV43Lq",
        "colab_type": "code",
        "outputId": "47d85069-bccb-4ef0-f7fd-c202bdd69ebe",
        "colab": {
          "base_uri": "https://localhost:8080/",
          "height": 86
        }
      },
      "cell_type": "code",
      "source": [
        "rgb, infra = utils.read_VEDAI(training_set, [data_dir]) # Directory in list?\n",
        "print('RGB shape: '+ str(rgb.shape))\n",
        "print('Infra shape: '+ str(infra.shape))"
      ],
      "execution_count": 0,
      "outputs": [
        {
          "output_type": "stream",
          "text": [
            "['00000006', '00000007', '00000008', '00000004', '00000003', '00000000']\n",
            "(6, 1024, 1024, 3)\n",
            "RGB shape: (6, 1024, 1024, 3)\n",
            "Infra shape: (6, 1024, 1024, 1)\n"
          ],
          "name": "stdout"
        }
      ]
    },
    {
      "metadata": {
        "id": "Clo9xE6K5kv_",
        "colab_type": "code",
        "outputId": "8504718c-8152-48bf-e19c-11df5f0892de",
        "colab": {
          "base_uri": "https://localhost:8080/",
          "height": 34
        }
      },
      "cell_type": "code",
      "source": [
        "training_data = utils.combine_rgb_infra(rgb, infra)\n",
        "# training_data=rgb\n",
        "print('Data shape: '+ str(training_data.shape))"
      ],
      "execution_count": 0,
      "outputs": [
        {
          "output_type": "stream",
          "text": [
            "Data shape: (6, 1024, 1024, 4)\n"
          ],
          "name": "stdout"
        }
      ]
    },
    {
      "metadata": {
        "id": "TjkAP0EN5um_",
        "colab_type": "code",
        "colab": {}
      },
      "cell_type": "code",
      "source": [
        "training_data = utils.normalize(training_data)"
      ],
      "execution_count": 0,
      "outputs": []
    },
    {
      "metadata": {
        "id": "Z51O2s5c5y9K",
        "colab_type": "code",
        "outputId": "a77d7d9f-e16b-4a37-d89e-97784aa5038e",
        "colab": {
          "base_uri": "https://localhost:8080/",
          "height": 34
        }
      },
      "cell_type": "code",
      "source": [
        "data_patched = utils.overlapping_patches(training_data)\n",
        "patch_size = data_patched.shape[1]\n",
        "down_patch_size = int(patch_size/4)\n",
        "print(\"Patch size \" + str(down_patch_size))"
      ],
      "execution_count": 0,
      "outputs": [
        {
          "output_type": "stream",
          "text": [
            "Patch size 16\n"
          ],
          "name": "stdout"
        }
      ]
    },
    {
      "metadata": {
        "id": "xPBpBm9W6Ag_",
        "colab_type": "code",
        "outputId": "bdacc416-a0cf-4228-bd26-7f27a1d34f5c",
        "colab": {
          "base_uri": "https://localhost:8080/",
          "height": 34
        }
      },
      "cell_type": "code",
      "source": [
        "im_hr = np.zeros(data_patched.shape)\n",
        "im_lr = np.zeros(data_patched.shape)\n",
        "im_lr = im_lr[:,0:down_patch_size,0:down_patch_size,:]\n",
        "\n",
        "print('Low res shape: ' + str(im_lr.shape))"
      ],
      "execution_count": 0,
      "outputs": [
        {
          "output_type": "stream",
          "text": [
            "Low res shape: (1536, 16, 16, 4)\n"
          ],
          "name": "stdout"
        }
      ]
    },
    {
      "metadata": {
        "id": "AbHsfGOM6y-B",
        "colab_type": "code",
        "colab": {}
      },
      "cell_type": "code",
      "source": [
        ""
      ],
      "execution_count": 0,
      "outputs": []
    },
    {
      "metadata": {
        "id": "tLXB6niy6OwV",
        "colab_type": "code",
        "outputId": "3e87215b-dd05-485d-821b-4eb87331b028",
        "colab": {
          "base_uri": "https://localhost:8080/",
          "height": 120
        }
      },
      "cell_type": "code",
      "source": [
        "factor = 4\n",
        "patch_size = data_patched.shape[1]\n",
        "down_patch_size = int(patch_size/factor)\n",
        "\n",
        "for image in range(data_patched.shape[0]):\n",
        "  im_lr[image,:,:,:] = utils.downsample_image(data_patched[image,:,:,:])\n",
        "\n",
        "print(\"Hi res - \")\n",
        "utils.data_explore(data_patched)\n",
        "print(\"Lo res - \")\n",
        "utils.data_explore(im_lr)"
      ],
      "execution_count": 0,
      "outputs": [
        {
          "output_type": "stream",
          "text": [
            "Hi res - \n",
            "Shape of the data is(1536, 64, 64, 4)\n",
            "Dtype of the data isfloat64\n",
            "Lo res - \n",
            "Shape of the data is(1536, 16, 16, 4)\n",
            "Dtype of the data isfloat64\n"
          ],
          "name": "stdout"
        }
      ]
    },
    {
      "metadata": {
        "id": "MyPcWSMVIElW",
        "colab_type": "code",
        "outputId": "529f9ada-ed11-4266-b41b-73ed2c36f0d0",
        "colab": {
          "base_uri": "https://localhost:8080/",
          "height": 355
        }
      },
      "cell_type": "code",
      "source": [
        "plt.figure().suptitle('RGB+Infra', fontsize=20)\n",
        "plt.subplot(1,2,1)\n",
        "plt.imshow(data_patched[0,:,:,:])\n",
        "plt.subplot(1,2,2)\n",
        "plt.imshow(im_lr[0,:,:,:])"
      ],
      "execution_count": 0,
      "outputs": [
        {
          "output_type": "execute_result",
          "data": {
            "text/plain": [
              "<matplotlib.image.AxesImage at 0x7fb8149399e8>"
            ]
          },
          "metadata": {
            "tags": []
          },
          "execution_count": 14
        },
        {
          "output_type": "display_data",
          "data": {
            "image/png": "[encoded data removed]",
            "text/plain": [
              "<matplotlib.figure.Figure at 0x7fb81a95f828>"
            ]
          },
          "metadata": {
            "tags": []
          }
        }
      ]
    },
    {
      "metadata": {
        "id": "V0KGCfXKTM-m",
        "colab_type": "code",
        "colab": {}
      },
      "cell_type": "code",
      "source": [
        "# Prototype the Dense SR GAN"
      ],
      "execution_count": 0,
      "outputs": []
    },
    {
      "metadata": {
        "id": "_AX1lq83Zb0z",
        "colab_type": "code",
        "colab": {}
      },
      "cell_type": "code",
      "source": [
        "import DenseSRGAN"
      ],
      "execution_count": 0,
      "outputs": []
    },
    {
      "metadata": {
        "id": "jqTPGHOlZp1B",
        "colab_type": "code",
        "colab": {
          "base_uri": "https://localhost:8080/",
          "height": 4452
        },
        "outputId": "cd71942d-9009-40ce-aa23-93b2bfa7e3e3"
      },
      "cell_type": "code",
      "source": [
        "gan = DenseSRGAN.DenseSRGAN()"
      ],
      "execution_count": 5,
      "outputs": [
        {
          "output_type": "stream",
          "text": [
            "__________________________________________________________________________________________________\n",
            "Layer (type)                    Output Shape         Param #     Connected to                     \n",
            "==================================================================================================\n",
            "lowres_input (InputLayer)       (None, 16.0, 16.0, 4 0                                            \n",
            "__________________________________________________________________________________________________\n",
            "init_conv (Conv2D)              (None, 16.0, 16.0, 6 2304        lowres_input[0][0]               \n",
            "__________________________________________________________________________________________________\n",
            "init_bn (BatchNormalization)    (None, 16.0, 16.0, 6 256         init_conv[0][0]                  \n",
            "__________________________________________________________________________________________________\n",
            "init_relu (Activation)          (None, 16.0, 16.0, 6 0           init_bn[0][0]                    \n",
            "__________________________________________________________________________________________________\n",
            "H1_1_btlnck_bn (BatchNormalizat (None, 16.0, 16.0, 6 256         init_relu[0][0]                  \n",
            "__________________________________________________________________________________________________\n",
            "H1_1_btlnck_relu (Activation)   (None, 16.0, 16.0, 6 0           H1_1_btlnck_bn[0][0]             \n",
            "__________________________________________________________________________________________________\n",
            "H1_1_btlnck_conv (Conv2D)       (None, 16.0, 16.0, 3 20480       H1_1_btlnck_relu[0][0]           \n",
            "__________________________________________________________________________________________________\n",
            "H1_1_conv_bn (BatchNormalizatio (None, 16.0, 16.0, 3 1280        H1_1_btlnck_conv[0][0]           \n",
            "__________________________________________________________________________________________________\n",
            "H1_1_conv_relu (Activation)     (None, 16.0, 16.0, 3 0           H1_1_conv_bn[0][0]               \n",
            "__________________________________________________________________________________________________\n",
            "H1_1_conv_conv (Conv2D)         (None, 16.0, 16.0, 8 230400      H1_1_conv_relu[0][0]             \n",
            "__________________________________________________________________________________________________\n",
            "concat_1_1 (Concatenate)        (None, 16.0, 16.0, 1 0           init_relu[0][0]                  \n",
            "                                                                 H1_1_conv_conv[0][0]             \n",
            "__________________________________________________________________________________________________\n",
            "H1_2_btlnck_bn (BatchNormalizat (None, 16.0, 16.0, 1 576         concat_1_1[0][0]                 \n",
            "__________________________________________________________________________________________________\n",
            "H1_2_btlnck_relu (Activation)   (None, 16.0, 16.0, 1 0           H1_2_btlnck_bn[0][0]             \n",
            "__________________________________________________________________________________________________\n",
            "H1_2_btlnck_conv (Conv2D)       (None, 16.0, 16.0, 3 46080       H1_2_btlnck_relu[0][0]           \n",
            "__________________________________________________________________________________________________\n",
            "H1_2_conv_bn (BatchNormalizatio (None, 16.0, 16.0, 3 1280        H1_2_btlnck_conv[0][0]           \n",
            "__________________________________________________________________________________________________\n",
            "H1_2_conv_relu (Activation)     (None, 16.0, 16.0, 3 0           H1_2_conv_bn[0][0]               \n",
            "__________________________________________________________________________________________________\n",
            "H1_2_conv_conv (Conv2D)         (None, 16.0, 16.0, 8 230400      H1_2_conv_relu[0][0]             \n",
            "__________________________________________________________________________________________________\n",
            "concat_1_2 (Concatenate)        (None, 16.0, 16.0, 2 0           concat_1_1[0][0]                 \n",
            "                                                                 H1_2_conv_conv[0][0]             \n",
            "__________________________________________________________________________________________________\n",
            "H1_3_btlnck_bn (BatchNormalizat (None, 16.0, 16.0, 2 896         concat_1_2[0][0]                 \n",
            "__________________________________________________________________________________________________\n",
            "H1_3_btlnck_relu (Activation)   (None, 16.0, 16.0, 2 0           H1_3_btlnck_bn[0][0]             \n",
            "__________________________________________________________________________________________________\n",
            "H1_3_btlnck_conv (Conv2D)       (None, 16.0, 16.0, 3 71680       H1_3_btlnck_relu[0][0]           \n",
            "__________________________________________________________________________________________________\n",
            "H1_3_conv_bn (BatchNormalizatio (None, 16.0, 16.0, 3 1280        H1_3_btlnck_conv[0][0]           \n",
            "__________________________________________________________________________________________________\n",
            "H1_3_conv_relu (Activation)     (None, 16.0, 16.0, 3 0           H1_3_conv_bn[0][0]               \n",
            "__________________________________________________________________________________________________\n",
            "H1_3_conv_conv (Conv2D)         (None, 16.0, 16.0, 8 230400      H1_3_conv_relu[0][0]             \n",
            "__________________________________________________________________________________________________\n",
            "concat_1_3 (Concatenate)        (None, 16.0, 16.0, 3 0           concat_1_2[0][0]                 \n",
            "                                                                 H1_3_conv_conv[0][0]             \n",
            "__________________________________________________________________________________________________\n",
            "H1_4_btlnck_bn (BatchNormalizat (None, 16.0, 16.0, 3 1216        concat_1_3[0][0]                 \n",
            "__________________________________________________________________________________________________\n",
            "H1_4_btlnck_relu (Activation)   (None, 16.0, 16.0, 3 0           H1_4_btlnck_bn[0][0]             \n",
            "__________________________________________________________________________________________________\n",
            "H1_4_btlnck_conv (Conv2D)       (None, 16.0, 16.0, 3 97280       H1_4_btlnck_relu[0][0]           \n",
            "__________________________________________________________________________________________________\n",
            "H1_4_conv_bn (BatchNormalizatio (None, 16.0, 16.0, 3 1280        H1_4_btlnck_conv[0][0]           \n",
            "__________________________________________________________________________________________________\n",
            "H1_4_conv_relu (Activation)     (None, 16.0, 16.0, 3 0           H1_4_conv_bn[0][0]               \n",
            "__________________________________________________________________________________________________\n",
            "H1_4_conv_conv (Conv2D)         (None, 16.0, 16.0, 8 230400      H1_4_conv_relu[0][0]             \n",
            "__________________________________________________________________________________________________\n",
            "concat_1_4 (Concatenate)        (None, 16.0, 16.0, 3 0           concat_1_3[0][0]                 \n",
            "                                                                 H1_4_conv_conv[0][0]             \n",
            "__________________________________________________________________________________________________\n",
            "H1_5_btlnck_bn (BatchNormalizat (None, 16.0, 16.0, 3 1536        concat_1_4[0][0]                 \n",
            "__________________________________________________________________________________________________\n",
            "H1_5_btlnck_relu (Activation)   (None, 16.0, 16.0, 3 0           H1_5_btlnck_bn[0][0]             \n",
            "__________________________________________________________________________________________________\n",
            "H1_5_btlnck_conv (Conv2D)       (None, 16.0, 16.0, 3 122880      H1_5_btlnck_relu[0][0]           \n",
            "__________________________________________________________________________________________________\n",
            "H1_5_conv_bn (BatchNormalizatio (None, 16.0, 16.0, 3 1280        H1_5_btlnck_conv[0][0]           \n",
            "__________________________________________________________________________________________________\n",
            "H1_5_conv_relu (Activation)     (None, 16.0, 16.0, 3 0           H1_5_conv_bn[0][0]               \n",
            "__________________________________________________________________________________________________\n",
            "H1_5_conv_conv (Conv2D)         (None, 16.0, 16.0, 8 230400      H1_5_conv_relu[0][0]             \n",
            "__________________________________________________________________________________________________\n",
            "concat_1_5 (Concatenate)        (None, 16.0, 16.0, 4 0           concat_1_4[0][0]                 \n",
            "                                                                 H1_5_conv_conv[0][0]             \n",
            "__________________________________________________________________________________________________\n",
            "trans1 (Conv2DTranspose)        (None, 32.0, 32.0, 8 334080      concat_1_5[0][0]                 \n",
            "__________________________________________________________________________________________________\n",
            "H2_1_btlnck_bn (BatchNormalizat (None, 32.0, 32.0, 8 320         trans1[0][0]                     \n",
            "__________________________________________________________________________________________________\n",
            "H2_1_btlnck_relu (Activation)   (None, 32.0, 32.0, 8 0           H2_1_btlnck_bn[0][0]             \n",
            "__________________________________________________________________________________________________\n",
            "H2_1_btlnck_conv (Conv2D)       (None, 32.0, 32.0, 3 30720       H2_1_btlnck_relu[0][0]           \n",
            "__________________________________________________________________________________________________\n",
            "H2_1_conv_bn (BatchNormalizatio (None, 32.0, 32.0, 3 1536        H2_1_btlnck_conv[0][0]           \n",
            "__________________________________________________________________________________________________\n",
            "H2_1_conv_relu (Activation)     (None, 32.0, 32.0, 3 0           H2_1_conv_bn[0][0]               \n",
            "__________________________________________________________________________________________________\n",
            "H2_1_conv_conv (Conv2D)         (None, 32.0, 32.0, 9 331776      H2_1_conv_relu[0][0]             \n",
            "__________________________________________________________________________________________________\n",
            "concat_2_1 (Concatenate)        (None, 32.0, 32.0, 1 0           trans1[0][0]                     \n",
            "                                                                 H2_1_conv_conv[0][0]             \n",
            "__________________________________________________________________________________________________\n",
            "H2_2_btlnck_bn (BatchNormalizat (None, 32.0, 32.0, 1 704         concat_2_1[0][0]                 \n",
            "__________________________________________________________________________________________________\n",
            "H2_2_btlnck_relu (Activation)   (None, 32.0, 32.0, 1 0           H2_2_btlnck_bn[0][0]             \n",
            "__________________________________________________________________________________________________\n",
            "H2_2_btlnck_conv (Conv2D)       (None, 32.0, 32.0, 3 67584       H2_2_btlnck_relu[0][0]           \n",
            "__________________________________________________________________________________________________\n",
            "H2_2_conv_bn (BatchNormalizatio (None, 32.0, 32.0, 3 1536        H2_2_btlnck_conv[0][0]           \n",
            "__________________________________________________________________________________________________\n",
            "H2_2_conv_relu (Activation)     (None, 32.0, 32.0, 3 0           H2_2_conv_bn[0][0]               \n",
            "__________________________________________________________________________________________________\n",
            "H2_2_conv_conv (Conv2D)         (None, 32.0, 32.0, 9 331776      H2_2_conv_relu[0][0]             \n",
            "__________________________________________________________________________________________________\n",
            "concat_2_2 (Concatenate)        (None, 32.0, 32.0, 2 0           concat_2_1[0][0]                 \n",
            "                                                                 H2_2_conv_conv[0][0]             \n",
            "__________________________________________________________________________________________________\n",
            "H2_3_btlnck_bn (BatchNormalizat (None, 32.0, 32.0, 2 1088        concat_2_2[0][0]                 \n",
            "__________________________________________________________________________________________________\n",
            "H2_3_btlnck_relu (Activation)   (None, 32.0, 32.0, 2 0           H2_3_btlnck_bn[0][0]             \n",
            "__________________________________________________________________________________________________\n",
            "H2_3_btlnck_conv (Conv2D)       (None, 32.0, 32.0, 3 104448      H2_3_btlnck_relu[0][0]           \n",
            "__________________________________________________________________________________________________\n",
            "H2_3_conv_bn (BatchNormalizatio (None, 32.0, 32.0, 3 1536        H2_3_btlnck_conv[0][0]           \n",
            "__________________________________________________________________________________________________\n",
            "H2_3_conv_relu (Activation)     (None, 32.0, 32.0, 3 0           H2_3_conv_bn[0][0]               \n",
            "__________________________________________________________________________________________________\n",
            "H2_3_conv_conv (Conv2D)         (None, 32.0, 32.0, 9 331776      H2_3_conv_relu[0][0]             \n",
            "__________________________________________________________________________________________________\n",
            "concat_2_3 (Concatenate)        (None, 32.0, 32.0, 3 0           concat_2_2[0][0]                 \n",
            "                                                                 H2_3_conv_conv[0][0]             \n",
            "__________________________________________________________________________________________________\n",
            "H2_4_btlnck_bn (BatchNormalizat (None, 32.0, 32.0, 3 1472        concat_2_3[0][0]                 \n",
            "__________________________________________________________________________________________________\n",
            "H2_4_btlnck_relu (Activation)   (None, 32.0, 32.0, 3 0           H2_4_btlnck_bn[0][0]             \n",
            "__________________________________________________________________________________________________\n",
            "H2_4_btlnck_conv (Conv2D)       (None, 32.0, 32.0, 3 141312      H2_4_btlnck_relu[0][0]           \n",
            "__________________________________________________________________________________________________\n",
            "H2_4_conv_bn (BatchNormalizatio (None, 32.0, 32.0, 3 1536        H2_4_btlnck_conv[0][0]           \n",
            "__________________________________________________________________________________________________\n",
            "H2_4_conv_relu (Activation)     (None, 32.0, 32.0, 3 0           H2_4_conv_bn[0][0]               \n",
            "__________________________________________________________________________________________________\n",
            "H2_4_conv_conv (Conv2D)         (None, 32.0, 32.0, 9 331776      H2_4_conv_relu[0][0]             \n",
            "__________________________________________________________________________________________________\n",
            "concat_2_4 (Concatenate)        (None, 32.0, 32.0, 4 0           concat_2_3[0][0]                 \n",
            "                                                                 H2_4_conv_conv[0][0]             \n",
            "__________________________________________________________________________________________________\n",
            "H2_5_btlnck_bn (BatchNormalizat (None, 32.0, 32.0, 4 1856        concat_2_4[0][0]                 \n",
            "__________________________________________________________________________________________________\n",
            "H2_5_btlnck_relu (Activation)   (None, 32.0, 32.0, 4 0           H2_5_btlnck_bn[0][0]             \n",
            "__________________________________________________________________________________________________\n",
            "H2_5_btlnck_conv (Conv2D)       (None, 32.0, 32.0, 3 178176      H2_5_btlnck_relu[0][0]           \n",
            "__________________________________________________________________________________________________\n",
            "H2_5_conv_bn (BatchNormalizatio (None, 32.0, 32.0, 3 1536        H2_5_btlnck_conv[0][0]           \n",
            "__________________________________________________________________________________________________\n",
            "H2_5_conv_relu (Activation)     (None, 32.0, 32.0, 3 0           H2_5_conv_bn[0][0]               \n",
            "__________________________________________________________________________________________________\n",
            "H2_5_conv_conv (Conv2D)         (None, 32.0, 32.0, 9 331776      H2_5_conv_relu[0][0]             \n",
            "__________________________________________________________________________________________________\n",
            "concat_2_5 (Concatenate)        (None, 32.0, 32.0, 5 0           concat_2_4[0][0]                 \n",
            "                                                                 H2_5_conv_conv[0][0]             \n",
            "__________________________________________________________________________________________________\n",
            "trans2 (Conv2DTranspose)        (None, 64.0, 64.0, 9 483840      concat_2_5[0][0]                 \n",
            "__________________________________________________________________________________________________\n",
            "H3_1_btlnck_bn (BatchNormalizat (None, 64.0, 64.0, 9 384         trans2[0][0]                     \n",
            "__________________________________________________________________________________________________\n",
            "H3_1_btlnck_relu (Activation)   (None, 64.0, 64.0, 9 0           H3_1_btlnck_bn[0][0]             \n",
            "__________________________________________________________________________________________________\n",
            "H3_1_btlnck_conv (Conv2D)       (None, 64.0, 64.0, 3 36864       H3_1_btlnck_relu[0][0]           \n",
            "__________________________________________________________________________________________________\n",
            "H3_1_conv_bn (BatchNormalizatio (None, 64.0, 64.0, 3 1536        H3_1_btlnck_conv[0][0]           \n",
            "__________________________________________________________________________________________________\n",
            "H3_1_conv_relu (Activation)     (None, 64.0, 64.0, 3 0           H3_1_conv_bn[0][0]               \n",
            "__________________________________________________________________________________________________\n",
            "H3_1_conv_conv (Conv2D)         (None, 64.0, 64.0, 9 331776      H3_1_conv_relu[0][0]             \n",
            "__________________________________________________________________________________________________\n",
            "concat_3_1 (Concatenate)        (None, 64.0, 64.0, 1 0           trans2[0][0]                     \n",
            "                                                                 H3_1_conv_conv[0][0]             \n",
            "__________________________________________________________________________________________________\n",
            "H3_2_btlnck_bn (BatchNormalizat (None, 64.0, 64.0, 1 768         concat_3_1[0][0]                 \n",
            "__________________________________________________________________________________________________\n",
            "H3_2_btlnck_relu (Activation)   (None, 64.0, 64.0, 1 0           H3_2_btlnck_bn[0][0]             \n",
            "__________________________________________________________________________________________________\n",
            "H3_2_btlnck_conv (Conv2D)       (None, 64.0, 64.0, 3 73728       H3_2_btlnck_relu[0][0]           \n",
            "__________________________________________________________________________________________________\n",
            "H3_2_conv_bn (BatchNormalizatio (None, 64.0, 64.0, 3 1536        H3_2_btlnck_conv[0][0]           \n",
            "__________________________________________________________________________________________________\n",
            "H3_2_conv_relu (Activation)     (None, 64.0, 64.0, 3 0           H3_2_conv_bn[0][0]               \n",
            "__________________________________________________________________________________________________\n",
            "H3_2_conv_conv (Conv2D)         (None, 64.0, 64.0, 9 331776      H3_2_conv_relu[0][0]             \n",
            "__________________________________________________________________________________________________\n",
            "concat_3_2 (Concatenate)        (None, 64.0, 64.0, 2 0           concat_3_1[0][0]                 \n",
            "                                                                 H3_2_conv_conv[0][0]             \n",
            "__________________________________________________________________________________________________\n",
            "H3_3_btlnck_bn (BatchNormalizat (None, 64.0, 64.0, 2 1152        concat_3_2[0][0]                 \n",
            "__________________________________________________________________________________________________\n",
            "H3_3_btlnck_relu (Activation)   (None, 64.0, 64.0, 2 0           H3_3_btlnck_bn[0][0]             \n",
            "__________________________________________________________________________________________________\n",
            "H3_3_btlnck_conv (Conv2D)       (None, 64.0, 64.0, 3 110592      H3_3_btlnck_relu[0][0]           \n",
            "__________________________________________________________________________________________________\n",
            "H3_3_conv_bn (BatchNormalizatio (None, 64.0, 64.0, 3 1536        H3_3_btlnck_conv[0][0]           \n",
            "__________________________________________________________________________________________________\n",
            "H3_3_conv_relu (Activation)     (None, 64.0, 64.0, 3 0           H3_3_conv_bn[0][0]               \n",
            "__________________________________________________________________________________________________\n",
            "H3_3_conv_conv (Conv2D)         (None, 64.0, 64.0, 9 331776      H3_3_conv_relu[0][0]             \n",
            "__________________________________________________________________________________________________\n",
            "concat_3_3 (Concatenate)        (None, 64.0, 64.0, 3 0           concat_3_2[0][0]                 \n",
            "                                                                 H3_3_conv_conv[0][0]             \n",
            "__________________________________________________________________________________________________\n",
            "H3_4_btlnck_bn (BatchNormalizat (None, 64.0, 64.0, 3 1536        concat_3_3[0][0]                 \n",
            "__________________________________________________________________________________________________\n",
            "H3_4_btlnck_relu (Activation)   (None, 64.0, 64.0, 3 0           H3_4_btlnck_bn[0][0]             \n",
            "__________________________________________________________________________________________________\n",
            "H3_4_btlnck_conv (Conv2D)       (None, 64.0, 64.0, 3 147456      H3_4_btlnck_relu[0][0]           \n",
            "__________________________________________________________________________________________________\n",
            "H3_4_conv_bn (BatchNormalizatio (None, 64.0, 64.0, 3 1536        H3_4_btlnck_conv[0][0]           \n",
            "__________________________________________________________________________________________________\n",
            "H3_4_conv_relu (Activation)     (None, 64.0, 64.0, 3 0           H3_4_conv_bn[0][0]               \n",
            "__________________________________________________________________________________________________\n",
            "H3_4_conv_conv (Conv2D)         (None, 64.0, 64.0, 9 331776      H3_4_conv_relu[0][0]             \n",
            "__________________________________________________________________________________________________\n",
            "concat_3_4 (Concatenate)        (None, 64.0, 64.0, 4 0           concat_3_3[0][0]                 \n",
            "                                                                 H3_4_conv_conv[0][0]             \n",
            "__________________________________________________________________________________________________\n",
            "H3_5_btlnck_bn (BatchNormalizat (None, 64.0, 64.0, 4 1920        concat_3_4[0][0]                 \n",
            "__________________________________________________________________________________________________\n",
            "H3_5_btlnck_relu (Activation)   (None, 64.0, 64.0, 4 0           H3_5_btlnck_bn[0][0]             \n",
            "__________________________________________________________________________________________________\n",
            "H3_5_btlnck_conv (Conv2D)       (None, 64.0, 64.0, 3 184320      H3_5_btlnck_relu[0][0]           \n",
            "__________________________________________________________________________________________________\n",
            "H3_5_conv_bn (BatchNormalizatio (None, 64.0, 64.0, 3 1536        H3_5_btlnck_conv[0][0]           \n",
            "__________________________________________________________________________________________________\n",
            "H3_5_conv_relu (Activation)     (None, 64.0, 64.0, 3 0           H3_5_conv_bn[0][0]               \n",
            "__________________________________________________________________________________________________\n",
            "H3_5_conv_conv (Conv2D)         (None, 64.0, 64.0, 9 331776      H3_5_conv_relu[0][0]             \n",
            "__________________________________________________________________________________________________\n",
            "concat_3_5 (Concatenate)        (None, 64.0, 64.0, 5 0           concat_3_4[0][0]                 \n",
            "                                                                 H3_5_conv_conv[0][0]             \n",
            "__________________________________________________________________________________________________\n",
            "FC_out__bn (BatchNormalization) (None, 64.0, 64.0, 5 2304        concat_3_5[0][0]                 \n",
            "__________________________________________________________________________________________________\n",
            "FC_out__relu (Activation)       (None, 64.0, 64.0, 5 0           FC_out__bn[0][0]                 \n",
            "__________________________________________________________________________________________________\n",
            "FC_out__conv1 (Conv2D)          (None, 64.0, 64.0, 4 2304        FC_out__relu[0][0]               \n",
            "__________________________________________________________________________________________________\n",
            "FC_out__sigmoid (Activation)    (None, 64.0, 64.0, 4 0           FC_out__conv1[0][0]              \n",
            "==================================================================================================\n",
            "Total params: 6,765,888\n",
            "Trainable params: 6,745,888\n",
            "Non-trainable params: 20,000\n",
            "__________________________________________________________________________________________________\n"
          ],
          "name": "stdout"
        }
      ]
    }
  ]
}