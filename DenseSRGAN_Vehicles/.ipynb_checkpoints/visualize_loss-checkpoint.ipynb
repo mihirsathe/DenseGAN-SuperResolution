{
 "cells": [
  {
   "cell_type": "code",
   "execution_count": 19,
   "metadata": {
    "colab": {
     "base_uri": "https://localhost:8080/",
     "height": 34
    },
    "colab_type": "code",
    "id": "OREOTL8Xn2S8",
    "outputId": "07d5d268-7da7-407d-b031-bc112100d814"
   },
   "outputs": [],
   "source": [
    "import numpy as np\n",
    "import pandas as pd\n",
    "import matplotlib.pyplot as plt\n",
    "#from google.colab import drive\n",
    "#drive.mount('/content/drive')\n",
    "\n",
    "#dir_pfx = '/content/drive/'\n",
    "#data_dir = '../data/Vehicules1024/'\n",
    "\n",
    "#dir_pfx = '/content/drive/Team Drives/ECE285_Project/code/prototype/DenseSRGAN/'\n",
    "#data_dir = dir_pfx + '../data/Vehicules1024/'\n",
    "\n",
    "dir_pfx = './'\n",
    "data_dir = dir_pfx + 'loss_logging/'\n",
    "\n",
    "\n"
   ]
  },
  {
   "cell_type": "code",
   "execution_count": 21,
   "metadata": {
    "colab": {
     "base_uri": "https://localhost:8080/",
     "height": 394
    },
    "colab_type": "code",
    "id": "ZEjFk0Br-_wE",
    "outputId": "944deac9-1593-4e42-852a-b06dfd927aee"
   },
   "outputs": [
    {
     "data": {
      "text/plain": [
       "<function matplotlib.pyplot.show(*args, **kw)>"
      ]
     },
     "execution_count": 21,
     "metadata": {},
     "output_type": "execute_result"
    },
    {
     "data": {
      "image/png": "[encoded data removed]",
      "text/plain": [
       "<Figure size 432x288 with 1 Axes>"
      ]
     },
     "metadata": {},
     "output_type": "display_data"
    }
   ],
   "source": [
    "loss_log_file = data_dir + 'loss_log.npy'\n",
    "loss_log = np.load(loss_log_file)\n",
    "cols = ['epoch','batch_idx','loss_hr','acc_hr','loss_gen','acc_gen','loss_adv','acc_adv']\n",
    "loss_df = pd.DataFrame(loss_log,columns=cols)\n",
    "\n",
    "plt.figure\n",
    "plt.scatter(range(len(loss_df.acc_hr)), loss_df.loss_adv)\n",
    "plt.scatter(range(len(loss_df.acc_gen)), 0.5*(loss_df.loss_hr + loss_df.loss_gen))\n",
    "plt.title('Training Accuracy - SRGAN')\n",
    "plt.xlabel('Epoch')\n",
    "plt.ylabel('Accuracy')\n",
    "plt.legend(['Loss Adv','Loss Disc'])\n",
    "plt.show"
   ]
  },
  {
   "cell_type": "code",
   "execution_count": null,
   "metadata": {},
   "outputs": [],
   "source": []
  }
 ],
 "metadata": {
  "colab": {
   "name": "visualize_loss.ipynb",
   "provenance": [],
   "version": "0.3.2"
  },
  "kernelspec": {
   "display_name": "Python 3",
   "language": "python",
   "name": "python3"
  },
  "language_info": {
   "codemirror_mode": {
    "name": "ipython",
    "version": 3
   },
   "file_extension": ".py",
   "mimetype": "text/x-python",
   "name": "python",
   "nbconvert_exporter": "python",
   "pygments_lexer": "ipython3",
   "version": "3.5.3"
  }
 },
 "nbformat": 4,
 "nbformat_minor": 2
}
