{
 "cells": [
  {
   "cell_type": "code",
   "execution_count": 1,
   "metadata": {
    "colab": {
     "base_uri": "https://localhost:8080/",
     "height": 35
    },
    "colab_type": "code",
    "id": "sN3DFQTdEJKW",
    "outputId": "6e5d0289-1901-43bf-f62c-2783e2f4bf29"
   },
   "outputs": [],
   "source": [
    "# Local paths\n",
    "dir_pfx = './'\n",
    "data_dir = dir_pfx + '../../data/Vehicules1024/'\n",
    "# Add the local_modules directory to the set of paths\n",
    "# Python uses to look for imports.\n",
    "import sys\n",
    "sys.path.append(dir_pfx)"
   ]
  },
  {
   "cell_type": "code",
   "execution_count": 2,
   "metadata": {
    "colab": {
     "base_uri": "https://localhost:8080/",
     "height": 35
    },
    "colab_type": "code",
    "id": "yV3xCFSdGD_R",
    "outputId": "5e32bd7b-d861-4212-9e77-dfbe354ad0ef"
   },
   "outputs": [
    {
     "name": "stderr",
     "output_type": "stream",
     "text": [
      "Using TensorFlow backend.\n"
     ]
    }
   ],
   "source": [
    "#!pip3 install -q git+https://www.github.com/keras-team/keras-contrib.git\n",
    "from keras.utils import Sequence\n",
    "import numpy as np\n",
    "import tensorflow as tf\n",
    "\n",
    "from os import listdir\n",
    "from os.path import isfile, join\n",
    "from skimage.transform import downscale_local_mean\n",
    "import random\n",
    "\n",
    "import imageio\n",
    "import matplotlib.pyplot as plt"
   ]
  },
  {
   "cell_type": "code",
   "execution_count": 76,
   "metadata": {
    "colab": {},
    "colab_type": "code",
    "id": "cqpDxx9SA5wk"
   },
   "outputs": [],
   "source": [
    "\n",
    "def normalize(image):\n",
    "    return (image - 127.5) / 127.5\n",
    "\n",
    "def un_normalize(image):\n",
    "    return (image + 1) / 2\n",
    "\n",
    "def read_VEDAI(subset, PATH_TO_VEHICLES_FOLDER):\n",
    "    # Takes in the full path to the unzipped \"VEHICULES\" folder\n",
    "    # Returns mapping dict, RGB and Infrared images in \n",
    "    # (images, x, y, channels) format,\n",
    "    # saves a txt file with mapping of rgb/infra idx to filename\n",
    "    # NUM_FILES = 2536\n",
    "    # MAX_INDEX = 1272\n",
    "    X_PIXELS = 1024\n",
    "    Y_PIXELS = 1024\n",
    "    PATH_TO_VEHICLES_FOLDER = PATH_TO_VEHICLES_FOLDER#[0]\n",
    "\n",
    "    onlyfiles = [f for f in listdir(PATH_TO_VEHICLES_FOLDER) if isfile(\n",
    "        join(PATH_TO_VEHICLES_FOLDER, f)) and \"png\" in f]\n",
    "    # assert len(onlyfiles) == NUM_FILES, \"Not the full VEDAI 1024 Dataset\"\n",
    "    rgb = np.zeros((len(subset), X_PIXELS, Y_PIXELS, 3))\n",
    "    infra = np.zeros((len(subset), X_PIXELS, Y_PIXELS, 1))\n",
    "    indices = subset\n",
    "\n",
    "    print(indices)\n",
    "    print(rgb.shape)\n",
    "    index_filename_map = {}\n",
    "    im_cnt = 0\n",
    "\n",
    "    for index in indices:\n",
    "        pair = [file for file in onlyfiles if str(index) in file]\n",
    "        if pair:\n",
    "            for file in pair:\n",
    "                index_filename_map[im_cnt] = file.split('_')[0]\n",
    "                im = imageio.imread(PATH_TO_VEHICLES_FOLDER + '/' + file)\n",
    "                if \"co\" in file:\n",
    "                    # print('Inserting RGB @ '+ str(im_cnt))\n",
    "                    rgb[im_cnt, :, :, :] = np.reshape(\n",
    "                        im, (tuple([1]) + im.shape))\n",
    "                elif \"ir\" in file:\n",
    "                    # print('Inserting Infra @ '+ str(im_cnt))\n",
    "                    infra[im_cnt, :, :, :] = np.reshape(\n",
    "                        im, (tuple([1]) + im.shape + tuple([1])))\n",
    "            im_cnt = im_cnt + 1\n",
    "        else:\n",
    "            print(\"The following image is missing!: \" + index)\n",
    "    # print(index_filename_map)\n",
    "    f = open(PATH_TO_VEHICLES_FOLDER + \"_mapping.txt\", \"w\")\n",
    "    f.write(str(index_filename_map))\n",
    "    f.close()\n",
    "    return rgb, infra\n",
    "\n",
    "\n",
    "def scan_dataset(PATH_TO_VEHICLES_FOLDER, number_of_imgs):\n",
    "    # Takes in the full path to the unzipped \"VEHICULES\" folder\n",
    "    # Returns a list of all the files\n",
    "    # and saves a dataset summary text file with list of all file names\n",
    "    MAX_INDEX = number_of_imgs\n",
    "    PATH_TO_VEHICLES_FOLDER = PATH_TO_VEHICLES_FOLDER\n",
    "    indices = [format(n, '08') for n in range(MAX_INDEX)]\n",
    "    export_files = []\n",
    "\n",
    "    onlyfiles = [f for f in listdir(PATH_TO_VEHICLES_FOLDER) if isfile(\n",
    "        join(PATH_TO_VEHICLES_FOLDER, f)) and \"png\" in f]\n",
    "\n",
    "    for index in indices:\n",
    "        pair = [file for file in onlyfiles if str(index) in file]\n",
    "        if pair:\n",
    "            for file in pair:\n",
    "                if \"co\" in file:\n",
    "                    export_files.append(file.split('_')[0])\n",
    "        else:\n",
    "            print(\"The following image is missing!: \" + index)\n",
    "    np.savetxt(PATH_TO_VEHICLES_FOLDER + '_summary.txt',\n",
    "               export_files, delimiter=\" \", fmt=\"%s\")\n",
    "\n",
    "    return export_files\n",
    "\n",
    "\n",
    "def create_subsets(imgs, output_path, use_validation=True,\n",
    "                   training_percent=0.7, testing_percent=0.3, SEED=1):\n",
    "    # Takes a list of image file names and shuffles\n",
    "    # them before splitting them into required subsets\n",
    "    # Saves txt files containing the names of the files\n",
    "    # used in each subset, no return value\n",
    "\n",
    "    assert training_percent + \\\n",
    "        testing_percent == 1, \"Training + testing percents must equal 1.\"\n",
    "    random.seed(SEED)\n",
    "    random.shuffle(imgs)\n",
    "    print('Using ' + str(len(imgs)) + ' images.')\n",
    "    print('Saving files to ' + output_path)\n",
    "    if not use_validation:\n",
    "        training_imgs = imgs[:int(len(imgs) * training_percent)]\n",
    "        testing_imgs = imgs[int(len(imgs) * training_percent):]\n",
    "        np.savetxt(output_path + 'training.txt',\n",
    "                   training_imgs, delimiter=\" \", fmt=\"%s\")\n",
    "        np.savetxt(output_path + 'testing.txt',\n",
    "                   testing_imgs, delimiter=\" \", fmt=\"%s\")\n",
    "        return training_imgs, testing_imgs\n",
    "    else:\n",
    "        validation_split = 0.3  # use 30% of training dataset for validation\n",
    "        training_imgs = imgs[int(len(imgs) * validation_split *\n",
    "                                 training_percent):int(len(imgs) *\n",
    "                                                       training_percent)]\n",
    "        validation_imgs = imgs[:int(\n",
    "            len(imgs) * validation_split * training_percent)]\n",
    "        testing_imgs = imgs[int(len(imgs) * training_percent):]\n",
    "        np.savetxt(output_path + 'validation.txt',\n",
    "                   validation_imgs, delimiter=\" \", fmt=\"%s\")\n",
    "        np.savetxt(output_path + 'training.txt',\n",
    "                   testing_imgs, delimiter=\" \", fmt=\"%s\")\n",
    "        np.savetxt(output_path + 'testing.txt',\n",
    "                   testing_imgs, delimiter=\" \", fmt=\"%s\")\n",
    "        return training_imgs, validation_imgs, testing_imgs\n",
    "\n",
    "\n",
    "def save_VEDAI(rgb, infra):\n",
    "    # Takes in arrays of rgb and infrared images\n",
    "    # Saves them to disk, no return value\n",
    "    np.save(\"vedai_rgb_all.npy\", rgb)\n",
    "    np.save(\"vedai_infra_all.npy\", infra)\n",
    "\n",
    "\n",
    "def load_VEDAI():\n",
    "    # No parameters, expected to run in directory with VEDAI.npy files\n",
    "    # Returns two arrays with rgb and infrared images respectively\n",
    "    rgb = np.load(\"vedai_rgb_all.npy\")\n",
    "    infra = np.load(\"vedai_infra_all.npy\")\n",
    "    return rgb, infra\n",
    "\n",
    "\n",
    "def data_explore(data):\n",
    "    print(\"Shape of the data is\" + str(data.shape))\n",
    "    print(\"Dtype of the data is\" + str(data.dtype))\n",
    "\n",
    "\n",
    "def combine_rgb_infra(rgb, infra):\n",
    "    # Concatenates the two modalities along the channels axis\n",
    "    four_channel = np.concatenate((rgb, infra), axis=-1)\n",
    "    return four_channel\n",
    "\n",
    "  \n",
    "def overlapping_patches(images, patch_size=(64, 64), padding=\"VALID\"):\n",
    "    sess = tf.Session()\n",
    "\n",
    "    num_images, size_x, size_y, channels = images.shape\n",
    "    ims = tf.convert_to_tensor(images)\n",
    "    patch_x, patch_y = patch_size\n",
    "    patches = tf.extract_image_patches(ims, [1, patch_x, patch_y, 1], [\n",
    "        1, patch_x, patch_y, 1], [1, 1, 1, 1], padding=padding)\n",
    "    patches_shape = tf.shape(patches)\n",
    "    with sess.as_default():\n",
    "        np = tf.reshape(patches, [tf.reduce_prod(patches_shape[0:3]),\n",
    "                                  patch_x, patch_y, channels]).eval()\n",
    "        return np  \n",
    "\n",
    "\n",
    "def non_overlapping_patches(image, patch_size=(64, 64)):\n",
    "    size_x, size_y, channels = image.shape\n",
    "    patch_x, patch_y = patch_size\n",
    "    im_pad = np.pad(image, ((0, patch_x - size_x % patch_x),\n",
    "                            (0, patch_y - size_y % patch_y), (0, 0)),\n",
    "                    mode=\"constant\")\n",
    "    if size_x % patch_x == 0 and size_y % patch_y == 0:\n",
    "        im_pad = image\n",
    "    pad_x, pad_y, channels = im_pad.shape\n",
    "    print(im_pad.shape)\n",
    "    num_patches = (pad_x // patch_x) * (pad_y // patch_y)\n",
    "    patches = np.zeros((num_patches, patch_x, patch_y, channels))\n",
    "    counter = 0\n",
    "    for i in range((pad_x // patch_x)):\n",
    "        for j in range((pad_y // patch_y)):\n",
    "            x_s = i * patch_x\n",
    "            y_s = j * patch_y\n",
    "            patches[counter, :, :, :] = im_pad[x_s:x_s + patch_x,\n",
    "                                               y_s:y_s + patch_y, :]\n",
    "            counter += 1\n",
    "    return patches\n",
    "\n",
    "\n",
    "def downsample_image(image, block=(4, 4, 1)):\n",
    "    # Downsamples numpy array image by factor\n",
    "    # Returns  the downsampled copy\n",
    "    if image.ndim == 4:\n",
    "      block=(1, 4, 4, 1)\n",
    "    return downscale_local_mean(image, block)\n",
    "\n",
    "\n",
    "def reconstruct_patches(patches, image_size):\n",
    "    # TODO: Create a function which reconstructs an image\n",
    "    # when given patches created by non_overlapping_patches\n",
    "    # Discards predictions for zero border\n",
    "    pass\n",
    "\n",
    "def get_images_to_four_chan(img_name, DATASET_PATH, ch_num=4):\n",
    "  #co = imageio.imread(DATASET_PATH + 'VEDAI/' + img_name + '_co.png')\n",
    "  co = imageio.imread(DATASET_PATH + img_name + '_co.png')\n",
    "  if ch_num == 4:\n",
    "    #ir = imageio.imread(DATASET_PATH + 'VEDAI/' + img_name + '_ir.png')\n",
    "    ir = imageio.imread(DATASET_PATH + img_name + '_ir.png')\n",
    "    rgb = np.reshape(co, (tuple([1]) + co.shape))\n",
    "    infra = np.reshape(ir, (tuple([1]) + ir.shape + tuple([1])))  \n",
    "    return combine_rgb_infra(rgb, infra)\n",
    "  elif ch_num == 3:\n",
    "    return np.reshape(co, (tuple([1]) + co.shape))\n",
    "\n",
    "def load_data_vehicles(DATASET_PATH, num_images=None, img_spec=2000):\n",
    "    # get all files from the directory\n",
    "    onlyfiles = [f for f in listdir(DATASET_PATH) if isfile(\n",
    "    join(DATASET_PATH, f)) and \"png\" in f]\n",
    "    \n",
    "    if num_images == 1:\n",
    "        assert img_spec < len(onlyfiles), \"Image not found. Pick a smaller number.\"\n",
    "        tmp_path = onlyfiles[img_spec]\n",
    "        onlyfiles = []\n",
    "        onlyfiles.append(tmp_path)\n",
    "        print(\"using single image \" + str(onlyfiles))    \n",
    "    elif num_images != None:\n",
    "        assert num_images < len(onlyfiles), \"Too many images. Pick a smaller number.\"\n",
    "        onlyfiles = onlyfiles[0:num_images]\n",
    "\n",
    "    \n",
    "    channels = 3     # RGB\n",
    "    patch_x, patch_y = 64, 64  # patch size \n",
    "    \n",
    "    # Preallocate array of the correct size\n",
    "    imgs_hr = np.zeros((len(onlyfiles), patch_x, patch_y, channels))\n",
    "    \n",
    "    print(len(onlyfiles))\n",
    "    \n",
    "    img_idx = 0\n",
    "    for i in range(len(onlyfiles)):\n",
    "        co = imageio.imread(DATASET_PATH + onlyfiles[i])\n",
    "        rgb = np.reshape(co, (tuple([1]) + co.shape))\n",
    "        if rgb.shape == (1, 64, 64, 3):\n",
    "            imgs_hr[img_idx, :, :, :] = normalize(rgb)\n",
    "            img_idx += 1\n",
    "    imgs_lr = np.asarray([downsample_image(patch) for patch in imgs_hr])\n",
    "    return imgs_hr, imgs_lr\n",
    "\n",
    "\n",
    "def load_data(file_idx, txt_file, DATASET_PATH, batch_size=1):\n",
    "  # read in batch of file names from txt file with randomized filenames\n",
    "  # return the lr and hr patches\n",
    "  \n",
    "    #read x lines from txt file\n",
    "    text_file = open(DATASET_PATH +\"/training.txt\", \"r\")\n",
    "    img_files = text_file.read().strip().split('\\n')\n",
    "    text_file.close()\n",
    "\n",
    "    # Number of patches * ims_per_batch\n",
    "    batchsz = 256 * batch_size\n",
    "    # RGB\n",
    "    channels = 4\n",
    "    # Default patch size\n",
    "    patch_x, patch_y = 64, 64\n",
    "\n",
    "    # Preallocate arrays of the correct size\n",
    "    imgs_hr = np.zeros((batchsz, patch_x, patch_y, channels))\n",
    "\n",
    "    # Batch number * ims_per_batch\n",
    "    start = file_idx\n",
    "    end = file_idx + batch_size\n",
    "    end = len(img_files)\n",
    "\n",
    "\n",
    "    im_num = 0\n",
    "    for i in range(start, end):\n",
    "        st, stp = im_num * 256, (im_num + 1) * 256\n",
    "        im_num += 1 \n",
    "        patch = overlapping_patches(\n",
    "            normalize(get_images_to_four_chan(img_files[i], DATASET_PATH, channels)))\n",
    "        imgs_hr[st:stp, :, :, :] = patch\n",
    "\n",
    "    imgs_lr = np.asarray([downsample_image(patch) for patch in imgs_hr])\n",
    "\n",
    "    file_idx = file_idx + batch_size # update current file_idx\n",
    "    return imgs_hr, imgs_lr, file_idx\n",
    "\n",
    "\n",
    "class VEDAISequence(Sequence):\n",
    "\n",
    "    def __init__(self, rgb, infra, ims_per_batch):\n",
    "        self.r, self.i = rgb, infra\n",
    "        self.ims_per_batch = ims_per_batch\n",
    "\n",
    "    def __len__(self):\n",
    "        # Returns number of batches given training set and ims_per_batch\n",
    "        return int(np.ceil(len(self.r) / float(self.ims_per_batch)))\n",
    "\n",
    "    def __getitem__(self, idx):\n",
    "        # Number of patches * ims_per_batch\n",
    "        batchsz = 256 * self.ims_per_batch\n",
    "        # RGB and infra\n",
    "        channels = 4\n",
    "        # Default patch size\n",
    "        patch_x, patch_y = 64, 64\n",
    "\n",
    "        # Batch number * ims_per_batch\n",
    "        start = idx * self.ims_per_batch\n",
    "        # Batch number * ims_per_batch  + 1\n",
    "        end = (idx + 1) * self.ims_per_batch\n",
    "\n",
    "        # Preallocate arrays of the correct size\n",
    "        high_res = np.zeros((batchsz, patch_x, patch_y, channels))\n",
    "        im_num = 0\n",
    "        for ind in range(start, end):\n",
    "            st, stp = im_num * 256, (im_num + 1) * 256\n",
    "            im_num += 1\n",
    "            rgb = imageio.imread(self.r[ind])\n",
    "            infra = imageio.imread(self.i[ind])\n",
    "            high_res[st:stp, :, :, :] = non_overlapping_patches(\n",
    "                combine_rgb_infra(rgb, infra))\n",
    "        low_res = np.asarray([downsample_image(patch) for patch in high_res])\n",
    "        return low_res, high_res"
   ]
  },
  {
   "cell_type": "code",
   "execution_count": 105,
   "metadata": {},
   "outputs": [
    {
     "name": "stdout",
     "output_type": "stream",
     "text": [
      "using single image ['00000277_1078.png']\n",
      "1\n"
     ]
    }
   ],
   "source": [
    "vehicles_dir = dir_pfx + '../../data/vehicle_patches_64/'\n",
    "\n",
    "im_hr, im_lr = load_data_vehicles(vehicles_dir, 1, 2021)\n",
    "\n",
    "# print(\"hi res\")\n",
    "# data_explore(im_hr)\n",
    "# print(\"lo res\")\n",
    "# data_explore(im_lr)"
   ]
  },
  {
   "cell_type": "code",
   "execution_count": 106,
   "metadata": {},
   "outputs": [
    {
     "data": {
      "text/plain": [
       "<matplotlib.image.AxesImage at 0x7fd03adb07f0>"
      ]
     },
     "execution_count": 106,
     "metadata": {},
     "output_type": "execute_result"
    },
    {
     "data": {
      "image/png": "[encoded data removed]",
      "text/plain": [
       "<Figure size 432x288 with 2 Axes>"
      ]
     },
     "metadata": {},
     "output_type": "display_data"
    }
   ],
   "source": [
    "idx = 0\n",
    "\n",
    "plt.figure().suptitle('RGB Vehicles', fontsize=20)\n",
    "plt.subplot(1,2,1)\n",
    "plt.imshow(un_normalize(im_hr[idx,:,:,:]))\n",
    "plt.subplot(1,2,2)\n",
    "plt.imshow(un_normalize(im_lr[idx,:,:,:]))"
   ]
  },
  {
   "cell_type": "code",
   "execution_count": 146,
   "metadata": {
    "colab": {},
    "colab_type": "code",
    "id": "V0KGCfXKTM-m"
   },
   "outputs": [
    {
     "data": {
      "text/plain": [
       "<module 'DenseSRGAN_V' from '/home/jupyter/ECE285FA18_BestGroup/DenseSRGAN_Vehicles/DenseSRGAN_V.py'>"
      ]
     },
     "execution_count": 146,
     "metadata": {},
     "output_type": "execute_result"
    }
   ],
   "source": [
    "# # Prototype the Dense SR GAN\n",
    "from importlib import reload\n",
    "reload(DenseSRGAN_V)"
   ]
  },
  {
   "cell_type": "code",
   "execution_count": 147,
   "metadata": {
    "colab": {},
    "colab_type": "code",
    "id": "_AX1lq83Zb0z"
   },
   "outputs": [],
   "source": [
    "import DenseSRGAN_V\n",
    "# gan = DenseSRGAN.DenseSRGAN(dir_pfx,im_hr,im_lr,num_gpus=4,dropout_rate=0.3,weights_path='weights/')\n",
    "gan = DenseSRGAN_V.DenseSRGAN_V(dir_pfx,im_hr,im_lr,num_gpus=4,dropout_rate=0.5)"
   ]
  },
  {
   "cell_type": "code",
   "execution_count": null,
   "metadata": {
    "colab": {
     "base_uri": "https://localhost:8080/",
     "height": 1927
    },
    "colab_type": "code",
    "id": "rX3QqMc6Sbwd",
    "outputId": "a168b19f-1a57-4e44-f35d-c2fe268d605e",
    "scrolled": false
   },
   "outputs": [
    {
     "name": "stdout",
     "output_type": "stream",
     "text": [
      "(1, 16, 16, 3)\n",
      "Finished Epoch 0... Time: 0:05:34.803990\n",
      "0:0: [D loss_hr: 0.183237, acc_hr: 0.000000, loss_gen: 0.866459, acc_gen: 0.000000]  [A loss: 9.761559, acc: 0.125000]\n",
      "Epoch: 0\n"
     ]
    }
   ],
   "source": [
    "#gan.dropout_rate = .5\n",
    "gan.train(epochs=100,verbose=False,bench_idx=0, batch_size=1)"
   ]
  },
  {
   "cell_type": "code",
   "execution_count": 135,
   "metadata": {},
   "outputs": [],
   "source": [
    "# gan = DenseSRGAN_V(dir_pfx,im_hr,im_lr,num_gpus=4,dropout_rate=0.3)"
   ]
  },
  {
   "cell_type": "code",
   "execution_count": 22,
   "metadata": {
    "colab": {},
    "colab_type": "code",
    "id": "qy94_eR4T-xC"
   },
   "outputs": [],
   "source": [
    "# Should save automatically but just in case...\n",
    "gan.disc.save(dir_pfx + 'weights/discriminator_weights.h5')\n",
    "gan.gen.save(dir_pfx + 'weights/generator_weights.h5')"
   ]
  },
  {
   "cell_type": "code",
   "execution_count": null,
   "metadata": {
    "colab": {
     "base_uri": "https://localhost:8080/",
     "height": 356
    },
    "colab_type": "code",
    "id": "Ax87RPHq_suF",
    "outputId": "b763c845-e9fa-4ae2-9ffd-25b237febcd5"
   },
   "outputs": [],
   "source": [
    "# 1117, \n",
    "ix = 1103\n",
    "\n",
    "img = gan.gen.predict(im_lr[ix:ix+1,:,:,:]).squeeze()\n",
    "img = (img + 1)/2\n",
    "plt.figure().suptitle('RGB+Infra', fontsize=20)\n",
    "plt.subplot(1,2,1)\n",
    "plt.imshow(im_hr[ix,:,:,:])\n",
    "plt.subplot(1,2,2)\n",
    "plt.imshow(img)"
   ]
  },
  {
   "cell_type": "code",
   "execution_count": null,
   "metadata": {},
   "outputs": [],
   "source": []
  }
 ],
 "metadata": {
  "accelerator": "GPU",
  "colab": {
   "collapsed_sections": [],
   "name": "DenseSRGAN_PROTO_colab.ipynb",
   "provenance": [],
   "version": "0.3.2"
  },
  "kernelspec": {
   "display_name": "Python 3",
   "language": "python",
   "name": "python3"
  },
  "language_info": {
   "codemirror_mode": {
    "name": "ipython",
    "version": 3
   },
   "file_extension": ".py",
   "mimetype": "text/x-python",
   "name": "python",
   "nbconvert_exporter": "python",
   "pygments_lexer": "ipython3",
   "version": "3.5.3"
  }
 },
 "nbformat": 4,
 "nbformat_minor": 2
}
